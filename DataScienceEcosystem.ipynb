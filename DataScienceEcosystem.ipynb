{
 "cells": [
  {
   "cell_type": "markdown",
   "id": "d438525c",
   "metadata": {},
   "source": [
    "# Data Science Tools and Ecosystem\n",
    "In this notebook, Data Science Tools and Ecosystem are summarized."
   ]
  },
  {
   "cell_type": "markdown",
   "id": "5b66494b",
   "metadata": {},
   "source": [
    "# create an ordered list\n",
    "Some of the popular languages that Data Scientists use are:\n",
    "Python.\n",
    "R.\n",
    "SQL."
   ]
  },
  {
   "cell_type": "markdown",
   "id": "35f54d9d",
   "metadata": {},
   "source": [
    "# ordered list\n",
    "Some of the commonly used libraries used by Data Scientists include:\n",
    "TensorFlow.\n",
    "NumPy.\n",
    "SciPy."
   ]
  },
  {
   "cell_type": "markdown",
   "id": "cef2d90f",
   "metadata": {},
   "source": [
    "# Execute as a markdown cell\n",
    "\n",
    "| Data Science Tools | \n",
    "| -------------|\n",
    "| Apache Spark|\n",
    "| BigML | "
   ]
  },
  {
   "cell_type": "markdown",
   "id": "b9ae8ced",
   "metadata": {},
   "source": [
    "# Below are a few examples of evaluating arithmetic expressions in Python"
   ]
  },
  {
   "cell_type": "code",
   "execution_count": 4,
   "id": "3342eded",
   "metadata": {},
   "outputs": [
    {
     "data": {
      "text/plain": [
       "4"
      ]
     },
     "execution_count": 4,
     "metadata": {},
     "output_type": "execute_result"
    }
   ],
   "source": [
    "add = compile(\"3 + 1\", \"<string>\", \"eval\")\n",
    "eval(add)"
   ]
  },
  {
   "cell_type": "code",
   "execution_count": 5,
   "id": "8bf60bbe",
   "metadata": {},
   "outputs": [
    {
     "data": {
      "text/plain": [
       "8"
      ]
     },
     "execution_count": 5,
     "metadata": {},
     "output_type": "execute_result"
    }
   ],
   "source": [
    "add1 = compile(\"(3 + 1) * 2\", \"<string>\", \"eval\")\n",
    "eval(add1)"
   ]
  },
  {
   "cell_type": "code",
   "execution_count": 10,
   "id": "477835a3",
   "metadata": {},
   "outputs": [
    {
     "data": {
      "text/plain": [
       "24740.042147019623"
      ]
     },
     "execution_count": 10,
     "metadata": {},
     "output_type": "execute_result"
    }
   ],
   "source": [
    "import math\n",
    "add2 = compile(\"7 / 3 * math.pi * math.pow(15, 3)\", \"<string>\", \"eval\")\n",
    "eval(add2)"
   ]
  },
  {
   "cell_type": "markdown",
   "id": "67b96aaf",
   "metadata": {},
   "source": [
    "# This a simple arithmetic expression to mutiply then add integers"
   ]
  },
  {
   "cell_type": "code",
   "execution_count": 13,
   "id": "16b4ca04",
   "metadata": {},
   "outputs": [
    {
     "data": {
      "text/plain": [
       "17"
      ]
     },
     "execution_count": 13,
     "metadata": {},
     "output_type": "execute_result"
    }
   ],
   "source": [
    "(3*4)+5"
   ]
  },
  {
   "cell_type": "markdown",
   "id": "af51f20c",
   "metadata": {},
   "source": [
    "# This will convert 200 minutes to hours by diving by 60"
   ]
  },
  {
   "cell_type": "code",
   "execution_count": 16,
   "id": "94f5ef19",
   "metadata": {},
   "outputs": [
    {
     "name": "stdout",
     "output_type": "stream",
     "text": [
      "3.3333333333333335 hours, 0 mins. \n"
     ]
    }
   ],
   "source": [
    "mins = 0\n",
    "hours = 0\n",
    "\n",
    "\n",
    "time = 200\n",
    "leftover_minutes = time % 1440\n",
    "hours = leftover_minutes / 60\n",
    "print(str(hours) + \" hours, \" + str(mins) +  \" mins. \")\n",
    "\n"
   ]
  },
  {
   "cell_type": "markdown",
   "id": "d4e94d52",
   "metadata": {},
   "source": [
    "# Objectives:\n",
    "- Get an overview of code and markdown cells\n",
    "- Execute an existing code cell\n",
    "- Insert and delete a code cell\n",
    "- Write comments in Python\n",
    "- Create and use Markdown cells"
   ]
  },
  {
   "cell_type": "markdown",
   "id": "b3483bff",
   "metadata": {},
   "source": [
    "# Author:\n",
    "Najla ALBELADI"
   ]
  },
  {
   "cell_type": "code",
   "execution_count": null,
   "id": "10da6408",
   "metadata": {},
   "outputs": [],
   "source": []
  }
 ],
 "metadata": {
  "kernelspec": {
   "display_name": "Python 3 (ipykernel)",
   "language": "python",
   "name": "python3"
  },
  "language_info": {
   "codemirror_mode": {
    "name": "ipython",
    "version": 3
   },
   "file_extension": ".py",
   "mimetype": "text/x-python",
   "name": "python",
   "nbconvert_exporter": "python",
   "pygments_lexer": "ipython3",
   "version": "3.8.12"
  }
 },
 "nbformat": 4,
 "nbformat_minor": 5
}
